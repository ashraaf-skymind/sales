{
 "cells": [
  {
   "cell_type": "code",
   "execution_count": 1,
   "id": "recent-gauge",
   "metadata": {},
   "outputs": [],
   "source": [
    "%matplotlib inline\n",
    "\n",
    "#import packages needed\n",
    "import numpy as np\n",
    "import pandas as pd\n",
    "import matplotlib.pyplot as plt\n",
    "import torch\n",
    "import torch.nn as nn\n",
    "from torch.utils.data import DataLoader,TensorDataset\n",
    "from sklearn.metrics import mean_squared_error\n",
    "from sklearn.preprocessing import StandardScaler,MinMaxScaler\n",
    "import math\n",
    "from matplotlib.lines import Line2D\n",
    "from torchsummaryX import summary\n",
    "\n",
    "# To auto load the customise module\n",
    "%load_ext autoreload\n",
    "%autoreload 2\n",
    "import deep_learning_module\n",
    "import data_module\n"
   ]
  },
  {
   "cell_type": "code",
   "execution_count": 2,
   "id": "cross-gallery",
   "metadata": {},
   "outputs": [],
   "source": [
    "df = pd.read_csv('../../datasets/superstore.csv')"
   ]
  },
  {
   "cell_type": "code",
   "execution_count": 3,
   "id": "differential-desperate",
   "metadata": {},
   "outputs": [
    {
     "data": {
      "text/html": [
       "<div>\n",
       "<style scoped>\n",
       "    .dataframe tbody tr th:only-of-type {\n",
       "        vertical-align: middle;\n",
       "    }\n",
       "\n",
       "    .dataframe tbody tr th {\n",
       "        vertical-align: top;\n",
       "    }\n",
       "\n",
       "    .dataframe thead th {\n",
       "        text-align: right;\n",
       "    }\n",
       "</style>\n",
       "<table border=\"1\" class=\"dataframe\">\n",
       "  <thead>\n",
       "    <tr style=\"text-align: right;\">\n",
       "      <th></th>\n",
       "      <th>Row ID</th>\n",
       "      <th>Order ID</th>\n",
       "      <th>Order Date</th>\n",
       "      <th>Ship Date</th>\n",
       "      <th>Ship Mode</th>\n",
       "      <th>Customer ID</th>\n",
       "      <th>Customer Name</th>\n",
       "      <th>Segment</th>\n",
       "      <th>Country</th>\n",
       "      <th>City</th>\n",
       "      <th>...</th>\n",
       "      <th>Postal Code</th>\n",
       "      <th>Region</th>\n",
       "      <th>Product ID</th>\n",
       "      <th>Category</th>\n",
       "      <th>Sub-Category</th>\n",
       "      <th>Product Name</th>\n",
       "      <th>Sales</th>\n",
       "      <th>Quantity</th>\n",
       "      <th>Discount</th>\n",
       "      <th>Profit</th>\n",
       "    </tr>\n",
       "  </thead>\n",
       "  <tbody>\n",
       "    <tr>\n",
       "      <th>7</th>\n",
       "      <td>8</td>\n",
       "      <td>CA-2014-115812</td>\n",
       "      <td>6/9/2014</td>\n",
       "      <td>6/14/2014</td>\n",
       "      <td>Standard Class</td>\n",
       "      <td>BH-11710</td>\n",
       "      <td>Brosina Hoffman</td>\n",
       "      <td>Consumer</td>\n",
       "      <td>United States</td>\n",
       "      <td>Los Angeles</td>\n",
       "      <td>...</td>\n",
       "      <td>90032</td>\n",
       "      <td>West</td>\n",
       "      <td>TEC-PH-10002275</td>\n",
       "      <td>Technology</td>\n",
       "      <td>Phones</td>\n",
       "      <td>Mitel 5320 IP Phone VoIP phone</td>\n",
       "      <td>907.152</td>\n",
       "      <td>6</td>\n",
       "      <td>0.2</td>\n",
       "      <td>90.7152</td>\n",
       "    </tr>\n",
       "    <tr>\n",
       "      <th>11</th>\n",
       "      <td>12</td>\n",
       "      <td>CA-2014-115812</td>\n",
       "      <td>6/9/2014</td>\n",
       "      <td>6/14/2014</td>\n",
       "      <td>Standard Class</td>\n",
       "      <td>BH-11710</td>\n",
       "      <td>Brosina Hoffman</td>\n",
       "      <td>Consumer</td>\n",
       "      <td>United States</td>\n",
       "      <td>Los Angeles</td>\n",
       "      <td>...</td>\n",
       "      <td>90032</td>\n",
       "      <td>West</td>\n",
       "      <td>TEC-PH-10002033</td>\n",
       "      <td>Technology</td>\n",
       "      <td>Phones</td>\n",
       "      <td>Konftel 250 Conference phone - Charcoal black</td>\n",
       "      <td>911.424</td>\n",
       "      <td>4</td>\n",
       "      <td>0.2</td>\n",
       "      <td>68.3568</td>\n",
       "    </tr>\n",
       "    <tr>\n",
       "      <th>19</th>\n",
       "      <td>20</td>\n",
       "      <td>CA-2014-143336</td>\n",
       "      <td>8/27/2014</td>\n",
       "      <td>9/1/2014</td>\n",
       "      <td>Second Class</td>\n",
       "      <td>ZD-21925</td>\n",
       "      <td>Zuschuss Donatelli</td>\n",
       "      <td>Consumer</td>\n",
       "      <td>United States</td>\n",
       "      <td>San Francisco</td>\n",
       "      <td>...</td>\n",
       "      <td>94109</td>\n",
       "      <td>West</td>\n",
       "      <td>TEC-PH-10001949</td>\n",
       "      <td>Technology</td>\n",
       "      <td>Phones</td>\n",
       "      <td>Cisco SPA 501G IP Phone</td>\n",
       "      <td>213.480</td>\n",
       "      <td>3</td>\n",
       "      <td>0.2</td>\n",
       "      <td>16.0110</td>\n",
       "    </tr>\n",
       "    <tr>\n",
       "      <th>26</th>\n",
       "      <td>27</td>\n",
       "      <td>CA-2016-121755</td>\n",
       "      <td>1/16/2016</td>\n",
       "      <td>1/20/2016</td>\n",
       "      <td>Second Class</td>\n",
       "      <td>EH-13945</td>\n",
       "      <td>Eric Hoffmann</td>\n",
       "      <td>Consumer</td>\n",
       "      <td>United States</td>\n",
       "      <td>Los Angeles</td>\n",
       "      <td>...</td>\n",
       "      <td>90049</td>\n",
       "      <td>West</td>\n",
       "      <td>TEC-AC-10003027</td>\n",
       "      <td>Technology</td>\n",
       "      <td>Accessories</td>\n",
       "      <td>Imation 8GB Mini TravelDrive USB 2.0 Flash Drive</td>\n",
       "      <td>90.570</td>\n",
       "      <td>3</td>\n",
       "      <td>0.0</td>\n",
       "      <td>11.7741</td>\n",
       "    </tr>\n",
       "    <tr>\n",
       "      <th>35</th>\n",
       "      <td>36</td>\n",
       "      <td>CA-2016-117590</td>\n",
       "      <td>12/8/2016</td>\n",
       "      <td>12/10/2016</td>\n",
       "      <td>First Class</td>\n",
       "      <td>GH-14485</td>\n",
       "      <td>Gene Hale</td>\n",
       "      <td>Corporate</td>\n",
       "      <td>United States</td>\n",
       "      <td>Richardson</td>\n",
       "      <td>...</td>\n",
       "      <td>75080</td>\n",
       "      <td>Central</td>\n",
       "      <td>TEC-PH-10004977</td>\n",
       "      <td>Technology</td>\n",
       "      <td>Phones</td>\n",
       "      <td>GE 30524EE4</td>\n",
       "      <td>1097.544</td>\n",
       "      <td>7</td>\n",
       "      <td>0.2</td>\n",
       "      <td>123.4737</td>\n",
       "    </tr>\n",
       "    <tr>\n",
       "      <th>...</th>\n",
       "      <td>...</td>\n",
       "      <td>...</td>\n",
       "      <td>...</td>\n",
       "      <td>...</td>\n",
       "      <td>...</td>\n",
       "      <td>...</td>\n",
       "      <td>...</td>\n",
       "      <td>...</td>\n",
       "      <td>...</td>\n",
       "      <td>...</td>\n",
       "      <td>...</td>\n",
       "      <td>...</td>\n",
       "      <td>...</td>\n",
       "      <td>...</td>\n",
       "      <td>...</td>\n",
       "      <td>...</td>\n",
       "      <td>...</td>\n",
       "      <td>...</td>\n",
       "      <td>...</td>\n",
       "      <td>...</td>\n",
       "      <td>...</td>\n",
       "    </tr>\n",
       "    <tr>\n",
       "      <th>9983</th>\n",
       "      <td>9984</td>\n",
       "      <td>US-2016-157728</td>\n",
       "      <td>9/22/2016</td>\n",
       "      <td>9/28/2016</td>\n",
       "      <td>Standard Class</td>\n",
       "      <td>RC-19960</td>\n",
       "      <td>Ryan Crowe</td>\n",
       "      <td>Consumer</td>\n",
       "      <td>United States</td>\n",
       "      <td>Grand Rapids</td>\n",
       "      <td>...</td>\n",
       "      <td>49505</td>\n",
       "      <td>Central</td>\n",
       "      <td>TEC-PH-10001305</td>\n",
       "      <td>Technology</td>\n",
       "      <td>Phones</td>\n",
       "      <td>Panasonic KX TS208W Corded phone</td>\n",
       "      <td>97.980</td>\n",
       "      <td>2</td>\n",
       "      <td>0.0</td>\n",
       "      <td>27.4344</td>\n",
       "    </tr>\n",
       "    <tr>\n",
       "      <th>9986</th>\n",
       "      <td>9987</td>\n",
       "      <td>CA-2016-125794</td>\n",
       "      <td>9/29/2016</td>\n",
       "      <td>10/3/2016</td>\n",
       "      <td>Standard Class</td>\n",
       "      <td>ML-17410</td>\n",
       "      <td>Maris LaWare</td>\n",
       "      <td>Consumer</td>\n",
       "      <td>United States</td>\n",
       "      <td>Los Angeles</td>\n",
       "      <td>...</td>\n",
       "      <td>90008</td>\n",
       "      <td>West</td>\n",
       "      <td>TEC-AC-10003399</td>\n",
       "      <td>Technology</td>\n",
       "      <td>Accessories</td>\n",
       "      <td>Memorex Mini Travel Drive 64 GB USB 2.0 Flash ...</td>\n",
       "      <td>36.240</td>\n",
       "      <td>1</td>\n",
       "      <td>0.0</td>\n",
       "      <td>15.2208</td>\n",
       "    </tr>\n",
       "    <tr>\n",
       "      <th>9987</th>\n",
       "      <td>9988</td>\n",
       "      <td>CA-2017-163629</td>\n",
       "      <td>11/17/2017</td>\n",
       "      <td>11/21/2017</td>\n",
       "      <td>Standard Class</td>\n",
       "      <td>RA-19885</td>\n",
       "      <td>Ruben Ausman</td>\n",
       "      <td>Corporate</td>\n",
       "      <td>United States</td>\n",
       "      <td>Athens</td>\n",
       "      <td>...</td>\n",
       "      <td>30605</td>\n",
       "      <td>South</td>\n",
       "      <td>TEC-AC-10001539</td>\n",
       "      <td>Technology</td>\n",
       "      <td>Accessories</td>\n",
       "      <td>Logitech G430 Surround Sound Gaming Headset wi...</td>\n",
       "      <td>79.990</td>\n",
       "      <td>1</td>\n",
       "      <td>0.0</td>\n",
       "      <td>28.7964</td>\n",
       "    </tr>\n",
       "    <tr>\n",
       "      <th>9988</th>\n",
       "      <td>9989</td>\n",
       "      <td>CA-2017-163629</td>\n",
       "      <td>11/17/2017</td>\n",
       "      <td>11/21/2017</td>\n",
       "      <td>Standard Class</td>\n",
       "      <td>RA-19885</td>\n",
       "      <td>Ruben Ausman</td>\n",
       "      <td>Corporate</td>\n",
       "      <td>United States</td>\n",
       "      <td>Athens</td>\n",
       "      <td>...</td>\n",
       "      <td>30605</td>\n",
       "      <td>South</td>\n",
       "      <td>TEC-PH-10004006</td>\n",
       "      <td>Technology</td>\n",
       "      <td>Phones</td>\n",
       "      <td>Panasonic KX - TS880B Telephone</td>\n",
       "      <td>206.100</td>\n",
       "      <td>5</td>\n",
       "      <td>0.0</td>\n",
       "      <td>55.6470</td>\n",
       "    </tr>\n",
       "    <tr>\n",
       "      <th>9991</th>\n",
       "      <td>9992</td>\n",
       "      <td>CA-2017-121258</td>\n",
       "      <td>2/26/2017</td>\n",
       "      <td>3/3/2017</td>\n",
       "      <td>Standard Class</td>\n",
       "      <td>DB-13060</td>\n",
       "      <td>Dave Brooks</td>\n",
       "      <td>Consumer</td>\n",
       "      <td>United States</td>\n",
       "      <td>Costa Mesa</td>\n",
       "      <td>...</td>\n",
       "      <td>92627</td>\n",
       "      <td>West</td>\n",
       "      <td>TEC-PH-10003645</td>\n",
       "      <td>Technology</td>\n",
       "      <td>Phones</td>\n",
       "      <td>Aastra 57i VoIP phone</td>\n",
       "      <td>258.576</td>\n",
       "      <td>2</td>\n",
       "      <td>0.2</td>\n",
       "      <td>19.3932</td>\n",
       "    </tr>\n",
       "  </tbody>\n",
       "</table>\n",
       "<p>1847 rows × 21 columns</p>\n",
       "</div>"
      ],
      "text/plain": [
       "      Row ID        Order ID  Order Date   Ship Date       Ship Mode  \\\n",
       "7          8  CA-2014-115812    6/9/2014   6/14/2014  Standard Class   \n",
       "11        12  CA-2014-115812    6/9/2014   6/14/2014  Standard Class   \n",
       "19        20  CA-2014-143336   8/27/2014    9/1/2014    Second Class   \n",
       "26        27  CA-2016-121755   1/16/2016   1/20/2016    Second Class   \n",
       "35        36  CA-2016-117590   12/8/2016  12/10/2016     First Class   \n",
       "...      ...             ...         ...         ...             ...   \n",
       "9983    9984  US-2016-157728   9/22/2016   9/28/2016  Standard Class   \n",
       "9986    9987  CA-2016-125794   9/29/2016   10/3/2016  Standard Class   \n",
       "9987    9988  CA-2017-163629  11/17/2017  11/21/2017  Standard Class   \n",
       "9988    9989  CA-2017-163629  11/17/2017  11/21/2017  Standard Class   \n",
       "9991    9992  CA-2017-121258   2/26/2017    3/3/2017  Standard Class   \n",
       "\n",
       "     Customer ID       Customer Name    Segment        Country           City  \\\n",
       "7       BH-11710     Brosina Hoffman   Consumer  United States    Los Angeles   \n",
       "11      BH-11710     Brosina Hoffman   Consumer  United States    Los Angeles   \n",
       "19      ZD-21925  Zuschuss Donatelli   Consumer  United States  San Francisco   \n",
       "26      EH-13945       Eric Hoffmann   Consumer  United States    Los Angeles   \n",
       "35      GH-14485           Gene Hale  Corporate  United States     Richardson   \n",
       "...          ...                 ...        ...            ...            ...   \n",
       "9983    RC-19960          Ryan Crowe   Consumer  United States   Grand Rapids   \n",
       "9986    ML-17410        Maris LaWare   Consumer  United States    Los Angeles   \n",
       "9987    RA-19885        Ruben Ausman  Corporate  United States         Athens   \n",
       "9988    RA-19885        Ruben Ausman  Corporate  United States         Athens   \n",
       "9991    DB-13060         Dave Brooks   Consumer  United States     Costa Mesa   \n",
       "\n",
       "      ... Postal Code   Region       Product ID    Category Sub-Category  \\\n",
       "7     ...       90032     West  TEC-PH-10002275  Technology       Phones   \n",
       "11    ...       90032     West  TEC-PH-10002033  Technology       Phones   \n",
       "19    ...       94109     West  TEC-PH-10001949  Technology       Phones   \n",
       "26    ...       90049     West  TEC-AC-10003027  Technology  Accessories   \n",
       "35    ...       75080  Central  TEC-PH-10004977  Technology       Phones   \n",
       "...   ...         ...      ...              ...         ...          ...   \n",
       "9983  ...       49505  Central  TEC-PH-10001305  Technology       Phones   \n",
       "9986  ...       90008     West  TEC-AC-10003399  Technology  Accessories   \n",
       "9987  ...       30605    South  TEC-AC-10001539  Technology  Accessories   \n",
       "9988  ...       30605    South  TEC-PH-10004006  Technology       Phones   \n",
       "9991  ...       92627     West  TEC-PH-10003645  Technology       Phones   \n",
       "\n",
       "                                           Product Name     Sales  Quantity  \\\n",
       "7                        Mitel 5320 IP Phone VoIP phone   907.152         6   \n",
       "11        Konftel 250 Conference phone - Charcoal black   911.424         4   \n",
       "19                              Cisco SPA 501G IP Phone   213.480         3   \n",
       "26     Imation 8GB Mini TravelDrive USB 2.0 Flash Drive    90.570         3   \n",
       "35                                          GE 30524EE4  1097.544         7   \n",
       "...                                                 ...       ...       ...   \n",
       "9983                   Panasonic KX TS208W Corded phone    97.980         2   \n",
       "9986  Memorex Mini Travel Drive 64 GB USB 2.0 Flash ...    36.240         1   \n",
       "9987  Logitech G430 Surround Sound Gaming Headset wi...    79.990         1   \n",
       "9988                    Panasonic KX - TS880B Telephone   206.100         5   \n",
       "9991                              Aastra 57i VoIP phone   258.576         2   \n",
       "\n",
       "      Discount    Profit  \n",
       "7          0.2   90.7152  \n",
       "11         0.2   68.3568  \n",
       "19         0.2   16.0110  \n",
       "26         0.0   11.7741  \n",
       "35         0.2  123.4737  \n",
       "...        ...       ...  \n",
       "9983       0.0   27.4344  \n",
       "9986       0.0   15.2208  \n",
       "9987       0.0   28.7964  \n",
       "9988       0.0   55.6470  \n",
       "9991       0.2   19.3932  \n",
       "\n",
       "[1847 rows x 21 columns]"
      ]
     },
     "execution_count": 3,
     "metadata": {},
     "output_type": "execute_result"
    }
   ],
   "source": [
    "technology = df.loc[df['Category'] == 'Technology']\n",
    "technology"
   ]
  },
  {
   "cell_type": "code",
   "execution_count": 4,
   "id": "exotic-straight",
   "metadata": {},
   "outputs": [
    {
     "data": {
      "text/plain": [
       "('1/10/2016', '9/9/2017')"
      ]
     },
     "execution_count": 4,
     "metadata": {},
     "output_type": "execute_result"
    }
   ],
   "source": [
    "technology['Order Date'].min(), technology['Order Date'].max()"
   ]
  },
  {
   "cell_type": "code",
   "execution_count": 5,
   "id": "american-infrastructure",
   "metadata": {
    "scrolled": true
   },
   "outputs": [
    {
     "name": "stderr",
     "output_type": "stream",
     "text": [
      "C:\\Users\\Nasuha.Imanina\\anaconda3\\envs\\time-series-labs\\lib\\site-packages\\pandas\\core\\frame.py:4174: SettingWithCopyWarning: \n",
      "A value is trying to be set on a copy of a slice from a DataFrame\n",
      "\n",
      "See the caveats in the documentation: https://pandas.pydata.org/pandas-docs/stable/user_guide/indexing.html#returning-a-view-versus-a-copy\n",
      "  errors=errors,\n"
     ]
    },
    {
     "data": {
      "text/plain": [
       "Order Date    0\n",
       "Sales         0\n",
       "dtype: int64"
      ]
     },
     "execution_count": 5,
     "metadata": {},
     "output_type": "execute_result"
    }
   ],
   "source": [
    "cols = ['Row ID', 'Order ID', 'Ship Date', 'Ship Mode', 'Customer ID', 'Customer Name', 'Segment', 'Country', 'City', 'State', 'Postal Code', 'Region', 'Product ID', 'Category', 'Sub-Category', 'Product Name', 'Quantity', 'Discount', 'Profit']\n",
    "technology.drop(cols, axis=1, inplace=True)\n",
    "technology.isnull().sum()\n"
   ]
  },
  {
   "cell_type": "code",
   "execution_count": 6,
   "id": "northern-lucas",
   "metadata": {},
   "outputs": [
    {
     "name": "stderr",
     "output_type": "stream",
     "text": [
      "C:\\Users\\Nasuha.Imanina\\anaconda3\\envs\\time-series-labs\\lib\\site-packages\\ipykernel_launcher.py:1: SettingWithCopyWarning: \n",
      "A value is trying to be set on a copy of a slice from a DataFrame.\n",
      "Try using .loc[row_indexer,col_indexer] = value instead\n",
      "\n",
      "See the caveats in the documentation: https://pandas.pydata.org/pandas-docs/stable/user_guide/indexing.html#returning-a-view-versus-a-copy\n",
      "  \"\"\"Entry point for launching an IPython kernel.\n"
     ]
    }
   ],
   "source": [
    "technology['Order Date'] = pd.to_datetime(technology['Order Date'])\n",
    "technology.set_index('Order Date', inplace=True)\n"
   ]
  },
  {
   "cell_type": "code",
   "execution_count": 7,
   "id": "corporate-freeware",
   "metadata": {},
   "outputs": [
    {
     "data": {
      "text/html": [
       "<div>\n",
       "<style scoped>\n",
       "    .dataframe tbody tr th:only-of-type {\n",
       "        vertical-align: middle;\n",
       "    }\n",
       "\n",
       "    .dataframe tbody tr th {\n",
       "        vertical-align: top;\n",
       "    }\n",
       "\n",
       "    .dataframe thead th {\n",
       "        text-align: right;\n",
       "    }\n",
       "</style>\n",
       "<table border=\"1\" class=\"dataframe\">\n",
       "  <thead>\n",
       "    <tr style=\"text-align: right;\">\n",
       "      <th></th>\n",
       "      <th>Order Date</th>\n",
       "      <th>Sales</th>\n",
       "    </tr>\n",
       "  </thead>\n",
       "  <tbody>\n",
       "    <tr>\n",
       "      <th>0</th>\n",
       "      <td>2014-01-06</td>\n",
       "      <td>1147.940</td>\n",
       "    </tr>\n",
       "    <tr>\n",
       "      <th>1</th>\n",
       "      <td>2014-01-09</td>\n",
       "      <td>31.200</td>\n",
       "    </tr>\n",
       "    <tr>\n",
       "      <th>2</th>\n",
       "      <td>2014-01-13</td>\n",
       "      <td>646.740</td>\n",
       "    </tr>\n",
       "    <tr>\n",
       "      <th>3</th>\n",
       "      <td>2014-01-15</td>\n",
       "      <td>149.950</td>\n",
       "    </tr>\n",
       "    <tr>\n",
       "      <th>4</th>\n",
       "      <td>2014-01-16</td>\n",
       "      <td>124.200</td>\n",
       "    </tr>\n",
       "    <tr>\n",
       "      <th>...</th>\n",
       "      <td>...</td>\n",
       "      <td>...</td>\n",
       "    </tr>\n",
       "    <tr>\n",
       "      <th>819</th>\n",
       "      <td>2017-12-25</td>\n",
       "      <td>401.208</td>\n",
       "    </tr>\n",
       "    <tr>\n",
       "      <th>820</th>\n",
       "      <td>2017-12-27</td>\n",
       "      <td>164.388</td>\n",
       "    </tr>\n",
       "    <tr>\n",
       "      <th>821</th>\n",
       "      <td>2017-12-28</td>\n",
       "      <td>14.850</td>\n",
       "    </tr>\n",
       "    <tr>\n",
       "      <th>822</th>\n",
       "      <td>2017-12-29</td>\n",
       "      <td>302.376</td>\n",
       "    </tr>\n",
       "    <tr>\n",
       "      <th>823</th>\n",
       "      <td>2017-12-30</td>\n",
       "      <td>90.930</td>\n",
       "    </tr>\n",
       "  </tbody>\n",
       "</table>\n",
       "<p>824 rows × 2 columns</p>\n",
       "</div>"
      ],
      "text/plain": [
       "    Order Date     Sales\n",
       "0   2014-01-06  1147.940\n",
       "1   2014-01-09    31.200\n",
       "2   2014-01-13   646.740\n",
       "3   2014-01-15   149.950\n",
       "4   2014-01-16   124.200\n",
       "..         ...       ...\n",
       "819 2017-12-25   401.208\n",
       "820 2017-12-27   164.388\n",
       "821 2017-12-28    14.850\n",
       "822 2017-12-29   302.376\n",
       "823 2017-12-30    90.930\n",
       "\n",
       "[824 rows x 2 columns]"
      ]
     },
     "execution_count": 7,
     "metadata": {},
     "output_type": "execute_result"
    }
   ],
   "source": [
    "technology = technology.groupby('Order Date')['Sales'].sum().reset_index()\n",
    "technology"
   ]
  },
  {
   "cell_type": "code",
   "execution_count": 8,
   "id": "conditional-carroll",
   "metadata": {},
   "outputs": [
    {
     "data": {
      "text/plain": [
       "DatetimeIndex(['2014-01-06', '2014-01-09', '2014-01-13', '2014-01-15',\n",
       "               '2014-01-16', '2014-01-20', '2014-01-26', '2014-02-01',\n",
       "               '2014-02-02', '2014-02-06',\n",
       "               ...\n",
       "               '2017-12-18', '2017-12-21', '2017-12-22', '2017-12-23',\n",
       "               '2017-12-24', '2017-12-25', '2017-12-27', '2017-12-28',\n",
       "               '2017-12-29', '2017-12-30'],\n",
       "              dtype='datetime64[ns]', name='Order Date', length=824, freq=None)"
      ]
     },
     "execution_count": 8,
     "metadata": {},
     "output_type": "execute_result"
    }
   ],
   "source": [
    "technology = technology.set_index('Order Date')\n",
    "technology.index\n"
   ]
  },
  {
   "cell_type": "code",
   "execution_count": 41,
   "id": "representative-diesel",
   "metadata": {},
   "outputs": [
    {
     "data": {
      "text/plain": [
       "(48,)"
      ]
     },
     "execution_count": 41,
     "metadata": {},
     "output_type": "execute_result"
    }
   ],
   "source": [
    "y = technology['Sales'].resample('MS').mean()\n",
    "y.shape"
   ]
  },
  {
   "cell_type": "code",
   "execution_count": 10,
   "id": "further-modification",
   "metadata": {},
   "outputs": [
    {
     "data": {
      "image/png": "[encoded data removed]",
      "text/plain": [
       "<Figure size 1440x720 with 1 Axes>"
      ]
     },
     "metadata": {
      "needs_background": "light"
     },
     "output_type": "display_data"
    }
   ],
   "source": [
    "y.plot(figsize=(20,10))\n",
    "plt.xlabel(\"Order Date\")\n",
    "plt.ylabel(\"Technology Sales\")\n",
    "plt.show()"
   ]
  },
  {
   "cell_type": "code",
   "execution_count": 11,
   "id": "delayed-cream",
   "metadata": {},
   "outputs": [],
   "source": [
    "split_ratio = 0.7\n",
    "num_epochs = 60\n",
    "window_size = 2\n",
    "batch_size = 2\n",
    "n_step = 2\n"
   ]
  },
  {
   "cell_type": "code",
   "execution_count": 12,
   "id": "surprised-billy",
   "metadata": {},
   "outputs": [
    {
     "data": {
      "text/plain": [
       "34"
      ]
     },
     "execution_count": 12,
     "metadata": {},
     "output_type": "execute_result"
    }
   ],
   "source": [
    "split_data = round(len(y)*split_ratio)\n",
    "split_data"
   ]
  },
  {
   "cell_type": "code",
   "execution_count": 13,
   "id": "retired-abraham",
   "metadata": {},
   "outputs": [
    {
     "name": "stdout",
     "output_type": "stream",
     "text": [
      "train_data_shape\n",
      "(34,)\n",
      "test_data_shape\n",
      "(14,)\n"
     ]
    }
   ],
   "source": [
    "#split data by indexing \n",
    "train_data = y[:split_data]\n",
    "test_data = y[split_data:]\n",
    "\n",
    "train_time = y.index[:split_data]\n",
    "test_time = y.index[split_data:]\n",
    "print(\"train_data_shape\")\n",
    "print(train_data.shape)\n",
    "print(\"test_data_shape\")\n",
    "print(test_data.shape)"
   ]
  },
  {
   "cell_type": "code",
   "execution_count": 14,
   "id": "broadband-vintage",
   "metadata": {},
   "outputs": [],
   "source": [
    "# Build the standard scaler, Use to fit the train data and take the statistic of train data of train data to apply in test data.\n",
    "scaler = StandardScaler().fit(train_data.values.reshape(-1, 1))\n",
    "train_data_standard = scaler.transform(train_data.values.reshape(-1, 1))\n",
    "test_data_standard = scaler.transform(test_data.values.reshape(-1, 1))"
   ]
  },
  {
   "cell_type": "code",
   "execution_count": 15,
   "id": "burning-masters",
   "metadata": {},
   "outputs": [
    {
     "name": "stdout",
     "output_type": "stream",
     "text": [
      "train_data_standard shape : (34, 1)\n",
      "test_data_standard shape : (14, 1)\n"
     ]
    }
   ],
   "source": [
    "print(f\"train_data_standard shape : {train_data_standard.shape}\")\n",
    "print(f\"test_data_standard shape : {test_data_standard.shape}\")"
   ]
  },
  {
   "cell_type": "code",
   "execution_count": 16,
   "id": "convenient-traffic",
   "metadata": {},
   "outputs": [
    {
     "name": "stdout",
     "output_type": "stream",
     "text": [
      "trainX shape:(31, 2, 1) trainY shape:(31, 2, 1)\n",
      "\n",
      "testX shape:(11, 2, 1) testY shape:(11, 2, 1)\n"
     ]
    }
   ],
   "source": [
    "### BEGIN SOLUTION\n",
    "trainX ,trainY =  data_module.univariate_multi_step(train_data_standard,window_size,n_step)\n",
    "testX , testY = data_module.univariate_multi_step(test_data_standard,window_size,n_step)\n",
    "### END SOLUTION\n",
    "print(f\"trainX shape:{trainX.shape} trainY shape:{trainY.shape}\\n\")\n",
    "print(f\"testX shape:{testX.shape} testY shape:{testY.shape}\")"
   ]
  },
  {
   "cell_type": "code",
   "execution_count": 17,
   "id": "israeli-modification",
   "metadata": {},
   "outputs": [],
   "source": [
    "def key_assign(trainingX,testingX,trainingY,testingY):\n",
    "    \"\"\" \n",
    "    Use to assign  the key to create the train_data_dict and test_data_dict\n",
    "    \n",
    "    Arguments:\n",
    "    trainingX -- feature for traning data \n",
    "    testingX -- feature for testing data\n",
    "    trainingY -- label for traning data\n",
    "    testingY -- label for testing data\n",
    "    \n",
    "    Returns: \n",
    "    train_data_dict -- dictionary of trainingX and trainingY\n",
    "    test_data_dict -- dictionary of testingX and testingY\n",
    "    \"\"\"\n",
    "    ### BEGIN SOLUTION\n",
    "    \n",
    "    # Create a dictionary that can store the train set feature and label\n",
    "    train_data_dict = {\"train_data_x_feature\" : trainingX, \"train_data_y_label\" : trainingY}\n",
    "    \n",
    "    # Create a dictionary that can store the test set feature and label\n",
    "    test_data_dict  = {\"test_data_x_feature\" : testingX , \"test_data_y_label\" : testingY }\n",
    "    \n",
    "    ### END SOLUTION\n",
    "    return train_data_dict , test_data_dict\n",
    "\n",
    "train_data_dictionary , test_data_dictionary = key_assign(trainingX = trainX,\n",
    "                                 testingX = testX,\n",
    "                                 trainingY = trainY,\n",
    "                                 testingY = testY)\n"
   ]
  },
  {
   "cell_type": "code",
   "execution_count": 18,
   "id": "processed-warner",
   "metadata": {},
   "outputs": [],
   "source": [
    "def transform(train_data_dict, test_data_dict):\n",
    "    \"\"\" \n",
    "    Transform the NumPy data to torch tensor\n",
    "    \n",
    "    Arguments:\n",
    "    train_data_dict -- train data dictionary \n",
    "    test_data_dict -- test data dictionary\n",
    "    \n",
    "    Returns: \n",
    "    train_data_dict -- train data dictionary \n",
    "    test_data_dict -- test data dictionary\n",
    "    \"\"\"\n",
    "    ### BEGIN SOLUTION\n",
    "    for train_datapoint in train_data_dict:\n",
    "        train_data_dict[train_datapoint] =  torch.from_numpy(train_data_dict[train_datapoint]).type(torch.Tensor)\n",
    "        \n",
    "    for test_datapoint in test_data_dict:\n",
    "        test_data_dict[test_datapoint] = torch.from_numpy(test_data_dict[test_datapoint]).type(torch.Tensor)\n",
    "        \n",
    "    ### END SOLUTION\n",
    "\n",
    "    return train_data_dict,test_data_dict\n",
    "\n",
    "train_data_dictionary,test_data_dictionary = transform(train_data_dictionary,test_data_dictionary)"
   ]
  },
  {
   "cell_type": "code",
   "execution_count": 19,
   "id": "suspected-flesh",
   "metadata": {
    "scrolled": true
   },
   "outputs": [
    {
     "name": "stdout",
     "output_type": "stream",
     "text": [
      "train_data_x_feature shape : torch.Size([31, 2, 1])\n",
      "train_data_y_label shape : torch.Size([31, 2, 1])\n",
      "test_data_x_feature shape : torch.Size([11, 2, 1])\n",
      "test_data_y_label shape : torch.Size([11, 2, 1])\n"
     ]
    }
   ],
   "source": [
    "def sanity_check(data_1,data_2):\n",
    "    \"\"\" \n",
    "    Print the shape of data_1 and data_2\n",
    "    \n",
    "    Arguments:\n",
    "    data_1 -- (dict) type of data\n",
    "    data_2 -- (dict) type of data \n",
    "    \"\"\"\n",
    "    \n",
    "    ### BEGIN SOLUTION\n",
    "\n",
    "    for key_1 in data_1:\n",
    "        print(key_1 +\" shape : \" + str(data_1[key_1].shape))\n",
    "    for key_2 in data_2:\n",
    "        print(key_2 +\" shape : \" + str(data_2[key_2].shape))\n",
    "        \n",
    "    ### END SOLUTION\n",
    "# Sanity check\n",
    "sanity_check(train_data_dictionary,test_data_dictionary)"
   ]
  },
  {
   "cell_type": "code",
   "execution_count": 20,
   "id": "analyzed-degree",
   "metadata": {},
   "outputs": [],
   "source": [
    "# Create Iterator\n",
    "def iterator(train_data_dict,test_data_dict,batch_size):\n",
    "    \"\"\" \n",
    "    Create iterator for train data and test data \n",
    "    \n",
    "    Arguments:\n",
    "    train_data_dict -- train data dictionary \n",
    "    test_data_dict -- test data dictionary\n",
    "    \n",
    "    Returns: \n",
    "    train_iter -- train data iterator \n",
    "    test_iter -- test data iterator \n",
    "    \"\"\"\n",
    "    ### BEGIN SOLUTION\n",
    "    train_dataset = TensorDataset(train_data_dict[\"train_data_x_feature\" ],\n",
    "                                  train_data_dict[\"train_data_y_label\"])\n",
    "    train_iter = DataLoader(train_dataset,batch_size=batch_size,shuffle=False)\n",
    "\n",
    "    test_dataset = TensorDataset(test_data_dict[\"test_data_x_feature\"],\n",
    "                                 test_data_dict[\"test_data_y_label\"])\n",
    "    test_iter = DataLoader(test_dataset,batch_size=batch_size,shuffle=False)\n",
    "    ### END SOLUTION\n",
    "    \n",
    "    return train_iter , test_iter\n",
    "\n",
    "train_iter , test_iter = iterator(train_data_dictionary,test_data_dictionary,batch_size)"
   ]
  },
  {
   "cell_type": "code",
   "execution_count": 21,
   "id": "mineral-bennett",
   "metadata": {},
   "outputs": [],
   "source": [
    "# seed\n",
    "torch.manual_seed(123)\n",
    "\n",
    "#Arguments for LSTM model\n",
    "hidden_dim = 1\n",
    "n_feature = 1 \n",
    "n_step = 2\n",
    "\n",
    "#1 for vanila LSTM , >1 is mean stacked LSTM\n",
    "num_layers = 1\n",
    "\n",
    "\n",
    "### BEGIN SOLUTION\n",
    "#Vanila , Stacked LSTM\n",
    "model = deep_learning_module.LSTM(n_feature = n_feature ,\n",
    "                         hidden_dim = hidden_dim ,\n",
    "                         num_layers = num_layers,\n",
    "                         n_step = n_step)\n",
    "#Bidirectional LSTM\n",
    "# model = deep_learning_module.BidirectionalLSTM(n_feature = n_feature ,\n",
    "#                          hidden_dim = hidden_dim ,\n",
    "#                          num_layers = num_layers,\n",
    "#                          n_step = n_step)\n",
    "### END SOLUTION"
   ]
  },
  {
   "cell_type": "code",
   "execution_count": 22,
   "id": "stuck-replica",
   "metadata": {},
   "outputs": [],
   "source": [
    "#loss function \n",
    "loss_fn = torch.nn.MSELoss()\n",
    "\n",
    "#optimiser\n",
    "optimizer = torch.optim.Adam(model.parameters(), lr=0.001)\n",
    "\n",
    "#dropout\n",
    "# dropout = nn.Dropout()"
   ]
  },
  {
   "cell_type": "code",
   "execution_count": 23,
   "id": "determined-automation",
   "metadata": {
    "scrolled": true
   },
   "outputs": [
    {
     "name": "stdout",
     "output_type": "stream",
     "text": [
      "===================================================\n",
      "       Kernel Shape Output Shape  Params  Mult-Adds\n",
      "Layer                                              \n",
      "0_lstm            -    [2, 2, 1]      16          8\n",
      "1_fc         [1, 2]       [2, 2]       4          2\n",
      "---------------------------------------------------\n",
      "                      Totals\n",
      "Total params              20\n",
      "Trainable params          20\n",
      "Non-trainable params       0\n",
      "Mult-Adds                 10\n",
      "===================================================\n",
      "       Kernel Shape Output Shape  Params  Mult-Adds\n",
      "Layer                                              \n",
      "0_lstm            -    [2, 2, 1]      16          8\n",
      "1_fc         [1, 2]       [2, 2]       4          2\n"
     ]
    }
   ],
   "source": [
    "inputs = torch.zeros((batch_size,window_size,1),dtype=torch.float) # batch size , seq_length , input_dim\n",
    "print(summary(model,inputs))"
   ]
  },
  {
   "cell_type": "code",
   "execution_count": 24,
   "id": "abstract-component",
   "metadata": {},
   "outputs": [],
   "source": [
    "# Start Training \n",
    "torch.manual_seed(123)\n",
    "train_loss,val_loss = deep_learning_module.training(num_epochs,train_iter,test_iter,optimizer,loss_fn,model)"
   ]
  },
  {
   "cell_type": "code",
   "execution_count": 25,
   "id": "infinite-cause",
   "metadata": {
    "scrolled": true
   },
   "outputs": [
    {
     "data": {
      "image/png": "[encoded data removed]",
      "text/plain": [
       "<Figure size 720x432 with 1 Axes>"
      ]
     },
     "metadata": {
      "needs_background": "light"
     },
     "output_type": "display_data"
    },
    {
     "name": "stdout",
     "output_type": "stream",
     "text": [
      "Epoch : 0 , training loss : 0.8788716312377683 , validation loss : 0.8907578695904125\n",
      "Epoch : 1 , training loss : 0.8747560189616296 , validation loss : 0.8874820917844772\n",
      "Epoch : 2 , training loss : 0.871727547337932 , validation loss : 0.8843088678338311\n",
      "Epoch : 3 , training loss : 0.8689125997404898 , validation loss : 0.8812784268097444\n",
      "Epoch : 4 , training loss : 0.866240200496489 , validation loss : 0.8783984238451178\n",
      "Epoch : 5 , training loss : 0.8636963348234853 , validation loss : 0.8756685135039416\n",
      "Epoch : 6 , training loss : 0.8612757325172424 , validation loss : 0.8730859011411667\n",
      "Epoch : 7 , training loss : 0.8589745990691646 , validation loss : 0.8706468885595148\n",
      "Epoch : 8 , training loss : 0.8567892389912759 , validation loss : 0.868347289210016\n",
      "Epoch : 9 , training loss : 0.8547160221684363 , validation loss : 0.8661824275146831\n",
      "Epoch : 10 , training loss : 0.8527510920839925 , validation loss : 0.8641478297385302\n",
      "Epoch : 11 , training loss : 0.8508907402715375 , validation loss : 0.8622384938326749\n",
      "Epoch : 12 , training loss : 0.8491310635882039 , validation loss : 0.8604494130069559\n",
      "Epoch : 13 , training loss : 0.8474681771570637 , validation loss : 0.8587757017124783\n",
      "Epoch : 14 , training loss : 0.8458981581272618 , validation loss : 0.857212017882954\n",
      "Epoch : 15 , training loss : 0.8444170826865781 , validation loss : 0.8557534847747196\n",
      "Epoch : 16 , training loss : 0.8430210601898932 , validation loss : 0.8543948951092634\n",
      "Epoch : 17 , training loss : 0.8417061298124252 , validation loss : 0.853131047704003\n",
      "Epoch : 18 , training loss : 0.8404684292693292 , validation loss : 0.8519570089199326\n",
      "Epoch : 19 , training loss : 0.8393040246540501 , validation loss : 0.8508677204901521\n",
      "Epoch : 20 , training loss : 0.8382091935603849 , validation loss : 0.8498584418134256\n",
      "Epoch : 21 , training loss : 0.8371800785103152 , validation loss : 0.8489243401722475\n",
      "Epoch : 22 , training loss : 0.8362131282206504 , validation loss : 0.8480606824159622\n",
      "Epoch : 23 , training loss : 0.8353047130569335 , validation loss : 0.847263291478157\n",
      "Epoch : 24 , training loss : 0.8344514379578252 , validation loss : 0.8465276441790841\n",
      "Epoch : 25 , training loss : 0.8336498987290167 , validation loss : 0.8458496738563884\n",
      "Epoch : 26 , training loss : 0.8328969300754608 , validation loss : 0.8452254452488639\n",
      "Epoch : 27 , training loss : 0.8321894003498939 , validation loss : 0.8446512872522528\n",
      "Epoch : 28 , training loss : 0.8315245004430893 , validation loss : 0.8441236371343787\n",
      "Epoch : 29 , training loss : 0.8308992929035618 , validation loss : 0.8436389700932936\n",
      "Epoch : 30 , training loss : 0.8303111546462582 , validation loss : 0.843194264579903\n",
      "Epoch : 31 , training loss : 0.8297575697783501 , validation loss : 0.8427864990451119\n",
      "Epoch : 32 , training loss : 0.829236205066404 , validation loss : 0.8424128700386394\n",
      "Epoch : 33 , training loss : 0.8287448243748757 , validation loss : 0.842070769179951\n",
      "Epoch : 34 , training loss : 0.828281250692183 , validation loss : 0.8417577804489569\n",
      "Epoch : 35 , training loss : 0.8278436704028037 , validation loss : 0.8414716930551962\n",
      "Epoch : 36 , training loss : 0.8274301074204906 , validation loss : 0.8412102027372881\n",
      "Epoch : 37 , training loss : 0.82703893319253 , validation loss : 0.8409714441407811\n",
      "Epoch : 38 , training loss : 0.8266684643683895 , validation loss : 0.8407536270943555\n",
      "Epoch : 39 , training loss : 0.8263173382128438 , validation loss : 0.8405550054528497\n",
      "Epoch : 40 , training loss : 0.825984085759809 , validation loss : 0.8403741297396746\n",
      "Epoch : 41 , training loss : 0.825667409166213 , validation loss : 0.8402094190770929\n",
      "Epoch : 42 , training loss : 0.825366212956367 , validation loss : 0.8400596366687254\n",
      "Epoch : 43 , training loss : 0.8250793088828364 , validation loss : 0.8399235240437768\n",
      "Epoch : 44 , training loss : 0.8248057350997002 , validation loss : 0.8397999629378319\n",
      "Epoch : 45 , training loss : 0.8245445292803549 , validation loss : 0.8396879529411142\n",
      "Epoch : 46 , training loss : 0.8242948127369727 , validation loss : 0.8395865451205861\n",
      "Epoch : 47 , training loss : 0.8240557452363353 , validation loss : 0.8394947709007696\n",
      "Epoch : 48 , training loss : 0.823826658629602 , validation loss : 0.8394118337468668\n",
      "Epoch : 49 , training loss : 0.8236068415064965 , validation loss : 0.8393371227112684\n",
      "Epoch : 50 , training loss : 0.8233955997613168 , validation loss : 0.8392698155208067\n",
      "Epoch : 51 , training loss : 0.8231924161795647 , validation loss : 0.8392094299197197\n",
      "Epoch : 52 , training loss : 0.8229966927920619 , validation loss : 0.8391552567481995\n",
      "Epoch : 53 , training loss : 0.8228079460320934 , validation loss : 0.8391069187359377\n",
      "Epoch : 54 , training loss : 0.822625792795612 , validation loss : 0.8390638367696241\n",
      "Epoch : 55 , training loss : 0.8224496553021092 , validation loss : 0.8390255279161714\n",
      "Epoch : 56 , training loss : 0.8222792263953916 , validation loss : 0.8389916718006134\n",
      "Epoch : 57 , training loss : 0.8221141191259507 , validation loss : 0.8389618505131115\n",
      "Epoch : 58 , training loss : 0.821954041238754 , validation loss : 0.8389357761903242\n",
      "Epoch : 59 , training loss : 0.8217985966513234 , validation loss : 0.8389131047508933\n"
     ]
    }
   ],
   "source": [
    "data_module.learning_curve(num_epochs,train_loss,val_loss)"
   ]
  },
  {
   "cell_type": "code",
   "execution_count": 26,
   "id": "anticipated-cloud",
   "metadata": {},
   "outputs": [
    {
     "data": {
      "image/png": "[encoded data removed]",
      "text/plain": [
       "<Figure size 720x432 with 1 Axes>"
      ]
     },
     "metadata": {
      "needs_background": "light"
     },
     "output_type": "display_data"
    }
   ],
   "source": [
    "data_module.zoom_learning_curve(start_epoch = 50,\n",
    "                                end_epoch =60,\n",
    "                                training_loss = train_loss,\n",
    "                                validation_loss = val_loss)"
   ]
  },
  {
   "cell_type": "code",
   "execution_count": 27,
   "id": "innovative-electronics",
   "metadata": {},
   "outputs": [],
   "source": [
    "# Section 1 : Feed in the train and test data to the model\n",
    "with torch.no_grad():\n",
    "    y_train_prediction = model(train_data_dictionary[\"train_data_x_feature\"])\n",
    "    y_test_prediction = model(test_data_dictionary[\"test_data_x_feature\"])\n",
    "    "
   ]
  },
  {
   "cell_type": "code",
   "execution_count": 28,
   "id": "prostate-optimization",
   "metadata": {},
   "outputs": [],
   "source": [
    "def key_assign_evaluation(y_train_prediction,\n",
    "                          y_test_prediction,\n",
    "                          train_data_dictionary,\n",
    "                          test_data_dictionary):\n",
    "    \"\"\" \n",
    "    Assign key for prediction and output data dictionary \n",
    "    \n",
    "    Arguments:\n",
    "    y_train_prediction -- (tensor) prediction for training data\n",
    "    y_test_prediction -- (tensor) prediction for test data\n",
    "    train_data_dictionary -- (dict) train data dictionary\n",
    "    test_data_dictionary -- (dict) test data dictionary\n",
    "    \n",
    "    \n",
    "    Returns: \n",
    "    prediction -- (dict) dictionary that consists of prediction from train data and test data\n",
    "    output_data -- (dict) dictionary that consists of output(label) from train data and test data\n",
    "    \"\"\"\n",
    "    ### BEGIN SOLUTION\n",
    "    prediction ={\"train_data_prediction\" : y_train_prediction,\n",
    "            \"test_data_prediction\" :y_test_prediction }\n",
    "    output_data ={\"train_data_output\" : train_data_dictionary[\"train_data_y_label\"] ,\n",
    "               \"test_data_output\" : test_data_dictionary[\"test_data_y_label\"]}\n",
    "    ### END SOLUTION\n",
    "    return prediction , output_data\n",
    "\n",
    "prediction , output_data = key_assign_evaluation(y_train_prediction,y_test_prediction,\n",
    "                                                 train_data_dictionary,\n",
    "                                                 test_data_dictionary)     "
   ]
  },
  {
   "cell_type": "code",
   "execution_count": 29,
   "id": "usual-ideal",
   "metadata": {},
   "outputs": [
    {
     "name": "stdout",
     "output_type": "stream",
     "text": [
      "train_data_prediction shape : torch.Size([31, 2])\n",
      "test_data_prediction shape : torch.Size([11, 2])\n",
      "train_data_output shape : torch.Size([31, 2, 1])\n",
      "test_data_output shape : torch.Size([11, 2, 1])\n"
     ]
    }
   ],
   "source": [
    "# Check the prediction and output shape\n",
    "sanity_check(data_1 = prediction,data_2 = output_data)"
   ]
  },
  {
   "cell_type": "code",
   "execution_count": 30,
   "id": "institutional-richards",
   "metadata": {},
   "outputs": [],
   "source": [
    "# Section 2 : Reshape both to the original data dimension\n",
    "def squeeze_dimension(output):\n",
    "    \"\"\" \n",
    "    Squeeze the dimension of output data\n",
    "    \n",
    "    Arguments:\n",
    "    output -- (dict) output_data\n",
    "    \n",
    "    Returns: \n",
    "    output_data -- (dict) output_data\n",
    "    \"\"\"\n",
    "    ### BEGIN SOLUTION\n",
    "    for key in output:\n",
    "        output[key] = torch.squeeze(output[key],2)\n",
    "    ### END SOLUTION\n",
    "    return output\n",
    "\n",
    "output_data = squeeze_dimension(output_data)"
   ]
  },
  {
   "cell_type": "code",
   "execution_count": 31,
   "id": "cardiac-graham",
   "metadata": {},
   "outputs": [
    {
     "name": "stdout",
     "output_type": "stream",
     "text": [
      "train_data_output shape : torch.Size([31, 2])\n",
      "test_data_output shape : torch.Size([11, 2])\n"
     ]
    }
   ],
   "source": [
    "# Check the output shape\n",
    "sanity_check(data_1 = output_data,data_2 = {})"
   ]
  },
  {
   "cell_type": "code",
   "execution_count": 32,
   "id": "nominated-rebel",
   "metadata": {},
   "outputs": [],
   "source": [
    "# Section 3 : Invert the scaling back to orignal data value\n",
    "def inverse_scaler(scaled_data,scaler):\n",
    "    \"\"\" \n",
    "    Inverse the scaled data\n",
    "    \n",
    "    Arguments:\n",
    "    scaled_data -- (dict) data that being scaled \n",
    "    scaler -- scaler \n",
    "    \n",
    "    Returns: \n",
    "    scaled_data -- (dict) data after inverse scale\n",
    "    \"\"\"\n",
    "    ### BEGIN SOLUTION\n",
    "    for item in scaled_data:\n",
    "        scaled_data[item] =  scaler.inverse_transform(scaled_data[item].detach().numpy())\n",
    "    ### END SOLUTION\n",
    "    return scaled_data\n",
    "    \n",
    "prediction = inverse_scaler(prediction,scaler)\n",
    "output_data  = inverse_scaler(output_data ,scaler)\n"
   ]
  },
  {
   "cell_type": "code",
   "execution_count": 33,
   "id": "searching-still",
   "metadata": {},
   "outputs": [
    {
     "name": "stdout",
     "output_type": "stream",
     "text": [
      "train_data_prediction shape : (31, 2)\n",
      "test_data_prediction shape : (11, 2)\n",
      "train_data_output shape : (31, 2)\n",
      "test_data_output shape : (11, 2)\n"
     ]
    }
   ],
   "source": [
    "sanity_check(data_1 = prediction,data_2 = output_data )"
   ]
  },
  {
   "cell_type": "code",
   "execution_count": 34,
   "id": "turkish-syracuse",
   "metadata": {},
   "outputs": [
    {
     "name": "stdout",
     "output_type": "stream",
     "text": [
      "Test Data\t\t\tForecast\n",
      "[1195.218   430.5017]\t\t[936.3065  962.47577]\n",
      "[ 430.5017 1392.8593]\t\t[934.65283 964.0269 ]\n",
      "[1392.8593   825.55914]\t\t[934.33984 964.32043]\n",
      "[825.55914 678.3294 ]\t\t[937.98114 960.905  ]\n",
      "[678.3294 853.055 ]\t\t[932.40155 966.13855]\n",
      "[ 853.055  1054.9966]\t\t[942.43365 956.7287 ]\n",
      "[1054.9966   978.84235]\t\t[944.0974  955.16815]\n",
      "[ 978.84235 1077.7041 ]\t\t[939.20605 959.7561 ]\n",
      "[1077.7041 1493.4392]\t\t[936.75354 962.0565 ]\n",
      "[1493.4392 1996.7509]\t\t[936.6449 962.1584]\n",
      "[1996.7509   955.86566]\t\t[925.9594 972.181 ]\n"
     ]
    }
   ],
   "source": [
    "def list_forecast_value(output_data,prediction):\n",
    "    \"\"\" \n",
    "    To list the test output and prediction output side by side\n",
    "    \n",
    "    Arguments:\n",
    "    output_data --  (dict) output data dictionary\n",
    "    prediction -- (dict) prediction output dictionary\n",
    "    \"\"\"\n",
    "    ### BEGIN SOLUTION\n",
    "    print(\"Test Data\\t\\t\\tForecast\")\n",
    "    for test, forecast in zip(output_data[\"test_data_output\"],prediction[\"test_data_prediction\"]):   \n",
    "        print(f\"{test}\\t\\t{forecast}\")\n",
    "    ### END SOLUTION\n",
    "        \n",
    "list_forecast_value(output_data,prediction)        "
   ]
  },
  {
   "cell_type": "code",
   "execution_count": 35,
   "id": "direct-moment",
   "metadata": {},
   "outputs": [
    {
     "name": "stdout",
     "output_type": "stream",
     "text": [
      "Train Score: 425.23 RMSE\n",
      "Test Score: 429.74 RMSE\n"
     ]
    }
   ],
   "source": [
    "# Section 4 : Calculate the RMSE of train and test data\n",
    "def rmse(prediction,output_data):\n",
    "    \"\"\" \n",
    "    Calculate RMSE between output data and prediction data \n",
    "    \n",
    "    Arguments:\n",
    "    prediction -- (dict) prediction output dictionary\n",
    "    output_data --  (dict) output data dictionary\n",
    "    \n",
    "    Returns:\n",
    "    trainScore - RMSE of train dataset\n",
    "    testScore - RMSE of test dataset\n",
    "    \"\"\"\n",
    "    trainScore = math.sqrt(mean_squared_error(prediction[\"train_data_prediction\"], output_data[\"train_data_output\"]))\n",
    "    testScore = math.sqrt(mean_squared_error(prediction[\"test_data_prediction\"], output_data[\"test_data_output\"]))\n",
    "    return trainScore,testScore\n",
    "\n",
    "trainScore,testScore = rmse(prediction,output_data)\n",
    "print('Train Score: %.2f RMSE' % (trainScore))\n",
    "print('Test Score: %.2f RMSE' % (testScore))"
   ]
  },
  {
   "cell_type": "code",
   "execution_count": 36,
   "id": "bottom-acrylic",
   "metadata": {},
   "outputs": [],
   "source": [
    "plot_details ={\"x-axis\" : \"Date\",\n",
    "          \"y-axis\" : \"Values\",\n",
    "          \"title\"  : \"Technology Sales\"\n",
    "         }"
   ]
  },
  {
   "cell_type": "code",
   "execution_count": 37,
   "id": "employed-dispatch",
   "metadata": {},
   "outputs": [],
   "source": [
    "# Plot forecast plot for multi-step\n",
    "def multi_step_plot(original_test_data,\n",
    "                    after_sequence_test_data ,\n",
    "                    forecast_data,test_time,window_size,\n",
    "                    n_step ,\n",
    "                    details = {},\n",
    "                    original_plot = False):\n",
    "    \n",
    "    \"\"\" \n",
    "    Plot the result of the multi-step forecast \n",
    "    \n",
    "    Arguments:\n",
    "    \n",
    "    original_test_data -- test data before sequence\n",
    "    \n",
    "    after_sequence_test_data -- (dict) output data dictionary\n",
    "    \n",
    "    forecast_data -- (dict) prediction data dictionary\n",
    "    \n",
    "    test_time --  time index for test data before sliding window (data sequence)\n",
    "    \n",
    "    window_size -- window size for the data sequence\n",
    "    \n",
    "    n_step -- the number of future step , 1 -> single >1 -> multi-step\n",
    "    \n",
    "    details -- (dict) details for plot such as \"x-axis\" ,\"y-axis\", \"title\"\n",
    "    \n",
    "    original_plot -- (boolean) True ->observe how sliding window (data sequence) take place in the test data\n",
    "    \n",
    "    \"\"\"\n",
    "    \n",
    "    after_sequence_test_data = after_sequence_test_data['test_data_output'] \n",
    "    forecast_data = forecast_data[\"test_data_prediction\"]\n",
    "    \n",
    "    # Plot Setting\n",
    "    plt.figure(figsize=(10,6))\n",
    "    plt.xticks(rotation=45)    \n",
    "    \n",
    "    # Store test and forecast data into DataFrame type \n",
    "    column_names = [\"timestep_\" + str(i) for i in range(after_sequence_test_data.shape[1])]\n",
    "    y_test_dataframe = pd.DataFrame(after_sequence_test_data,columns = column_names)\n",
    "    y_test_pred_dataframe =pd.DataFrame(forecast_data,columns = column_names)\n",
    "    \n",
    "    # Create time index for data after sequence\n",
    "    time_index_after_sequence = test_time[window_size:]\n",
    "    \n",
    "    # Test Data plot before sliding window(data sequencing)\n",
    "    if original_plot:\n",
    "        plt.plot(test_time,original_test_data,marker='x',color=\"blue\")\n",
    "\n",
    "    # For loop to plot the data step by step base on time index    \n",
    "    start_idx = 0 \n",
    "    for row in range(len(y_test_dataframe)):\n",
    "        \n",
    "        # Iterate the time index after sequence\n",
    "        time_index = time_index_after_sequence[start_idx:start_idx+n_step]\n",
    "        \n",
    "        # Plot the test data\n",
    "        plt.plot(time_index,y_test_dataframe.iloc[row],color=\"green\",marker='o')\n",
    "        \n",
    "        # Plot the forecast data\n",
    "        plt.plot(time_index,y_test_pred_dataframe.iloc[row],color=\"red\",marker='o')\n",
    "        \n",
    "        # Pointer for time_index_after_sequence\n",
    "        start_idx += 1\n",
    "        \n",
    "    # Customize the legend\n",
    "    custom_lines = [Line2D([0], [0], color=\"green\", lw=4),\n",
    "                Line2D([0], [0], color=\"red\", lw=4),\n",
    "                Line2D([0], [0], color=\"blue\", lw=4)]\n",
    "    plt.legend(custom_lines, ['Test Data After Sequencing', 'Forecast Data', 'Test Data Before Sequencing'])\n",
    "    \n",
    "    # Extra details - Optional function\n",
    "    if details != {}:\n",
    "        plt.xlabel(details[\"x-axis\"])\n",
    "        plt.ylabel(details[\"y-axis\"])\n",
    "        plt.title(details[\"title\"])\n",
    "    "
   ]
  },
  {
   "cell_type": "code",
   "execution_count": 38,
   "id": "smart-introduction",
   "metadata": {},
   "outputs": [
    {
     "data": {
      "image/png": "[encoded data removed]",
      "text/plain": [
       "<Figure size 720x432 with 1 Axes>"
      ]
     },
     "metadata": {
      "needs_background": "light"
     },
     "output_type": "display_data"
    }
   ],
   "source": [
    "# Use the multi_step_plot function\n",
    "multi_step_plot(original_test_data = test_data,\n",
    "                after_sequence_test_data = output_data ,\n",
    "                forecast_data = prediction,\n",
    "                test_time = test_time,\n",
    "                window_size = window_size ,\n",
    "                n_step = n_step,\n",
    "                details = plot_details,\n",
    "                original_plot = False)"
   ]
  }
 ],
 "metadata": {
  "kernelspec": {
   "display_name": "Python 3",
   "language": "python",
   "name": "python3"
  },
  "language_info": {
   "codemirror_mode": {
    "name": "ipython",
    "version": 3
   },
   "file_extension": ".py",
   "mimetype": "text/x-python",
   "name": "python",
   "nbconvert_exporter": "python",
   "pygments_lexer": "ipython3",
   "version": "3.7.10"
  }
 },
 "nbformat": 4,
 "nbformat_minor": 5
}
